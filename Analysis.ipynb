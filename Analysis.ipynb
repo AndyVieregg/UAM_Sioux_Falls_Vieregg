{
 "cells": [
  {
   "cell_type": "markdown",
   "id": "7b0b2034",
   "metadata": {},
   "source": [
    "# Analysis of Sioux Falls UAM MATSim Scenario"
   ]
  },
  {
   "cell_type": "markdown",
   "id": "4e743303",
   "metadata": {},
   "source": [
    "## Includes"
   ]
  },
  {
   "cell_type": "code",
   "execution_count": 1,
   "id": "41b41443",
   "metadata": {},
   "outputs": [],
   "source": [
    "import matsim\n",
    "import pandas as pd\n",
    "from collections import defaultdict\n",
    "from xml.etree.ElementTree import Element\n",
    "from sqlalchemy import create_engine, text\n",
    "%matplotlib inline"
   ]
  },
  {
   "cell_type": "markdown",
   "id": "b64799dd",
   "metadata": {},
   "source": [
    "## List of unique modes"
   ]
  },
  {
   "cell_type": "code",
   "execution_count": 2,
   "id": "2c6ebc45",
   "metadata": {},
   "outputs": [
    {
     "name": "stdout",
     "output_type": "stream",
     "text": [
      "{'pt', 'walk', 'car'}\n"
     ]
    }
   ],
   "source": [
    "plans = matsim.plan_reader('scenarios/sioux_falls_uam/output/output_plans.xml.gz', selectedPlansOnly = False)\n",
    "\n",
    "# Each plan is returned as a tuple with its owning person (for now, is this ok?)\n",
    "# - The name of the element is in its .tag (e.g. 'plan', 'leg', 'route', 'attributes')\n",
    "# - An element's attributes are accessed using .attrib['attrib-name']\n",
    "# - Use the element's .text field to get data outside of attributes (e.g. a route's list of links)\n",
    "# - Every element can be iterated on to get its children (e.g. the plan's activities and legs)\n",
    "# - Emits person even if that person has no plans\n",
    "\n",
    "distinct_legs = set(())\n",
    "\n",
    "for person, plan in plans:\n",
    "\n",
    "    # do stuff with this plan, e.g.\n",
    "    legs = filter(\n",
    "        lambda e: e.tag == 'leg', plan)\n",
    "\n",
    "    distinct_legs_individual = set(map(lambda a: a.get('mode'), legs))\n",
    "    #print(person.attrib['id'], distinct_legs_individual)\n",
    "    distinct_legs = distinct_legs.union(distinct_legs_individual)\n",
    "print(distinct_legs)"
   ]
  },
  {
   "cell_type": "code",
   "execution_count": 7,
   "id": "8e463704",
   "metadata": {},
   "outputs": [
    {
     "ename": "StopIteration",
     "evalue": "",
     "output_type": "error",
     "traceback": [
      "\u001b[1;31m---------------------------------------------------------------------------\u001b[0m",
      "\u001b[1;31mStopIteration\u001b[0m                             Traceback (most recent call last)",
      "Input \u001b[1;32mIn [7]\u001b[0m, in \u001b[0;36m<cell line: 1>\u001b[1;34m()\u001b[0m\n\u001b[1;32m----> 1\u001b[0m \u001b[38;5;28;43mnext\u001b[39;49m\u001b[43m(\u001b[49m\u001b[43mplans\u001b[49m\u001b[43m)\u001b[49m\n",
      "\u001b[1;31mStopIteration\u001b[0m: "
     ]
    }
   ],
   "source": [
    "next(plans)"
   ]
  }
 ],
 "metadata": {
  "kernelspec": {
   "display_name": "Python 3 (ipykernel)",
   "language": "python",
   "name": "python3"
  },
  "language_info": {
   "codemirror_mode": {
    "name": "ipython",
    "version": 3
   },
   "file_extension": ".py",
   "mimetype": "text/x-python",
   "name": "python",
   "nbconvert_exporter": "python",
   "pygments_lexer": "ipython3",
   "version": "3.9.6"
  }
 },
 "nbformat": 4,
 "nbformat_minor": 5
}
