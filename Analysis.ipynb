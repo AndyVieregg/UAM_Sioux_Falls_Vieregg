{
 "cells": [
  {
   "cell_type": "markdown",
   "id": "7b0b2034",
   "metadata": {},
   "source": [
    "# Analysis of Sioux Falls UAM MATSim Scenario"
   ]
  },
  {
   "cell_type": "markdown",
   "id": "4e743303",
   "metadata": {},
   "source": [
    "## Includes"
   ]
  },
  {
   "cell_type": "code",
   "execution_count": 2,
   "id": "41b41443",
   "metadata": {},
   "outputs": [],
   "source": [
    "import matsim\n",
    "import pandas as pd\n",
    "from collections import defaultdict\n",
    "from xml.etree.ElementTree import Element\n",
    "from sqlalchemy import create_engine, text\n",
    "%matplotlib inline"
   ]
  },
  {
   "cell_type": "markdown",
   "id": "b64799dd",
   "metadata": {},
   "source": [
    "## List of unique modes"
   ]
  },
  {
   "cell_type": "code",
   "execution_count": 2,
   "id": "2c6ebc45",
   "metadata": {},
   "outputs": [
    {
     "name": "stdout",
     "output_type": "stream",
     "text": [
      "{'pt', 'car', 'walk'}\n"
     ]
    }
   ],
   "source": [
    "plans = matsim.plan_reader('scenarios/sioux_falls_uam/output/output_plans.xml.gz', selectedPlansOnly = False)\n",
    "\n",
    "# Each plan is returned as a tuple with its owning person (for now, is this ok?)\n",
    "# - The name of the element is in its .tag (e.g. 'plan', 'leg', 'route', 'attributes')\n",
    "# - An element's attributes are accessed using .attrib['attrib-name']\n",
    "# - Use the element's .text field to get data outside of attributes (e.g. a route's list of links)\n",
    "# - Every element can be iterated on to get its children (e.g. the plan's activities and legs)\n",
    "# - Emits person even if that person has no plans\n",
    "\n",
    "distinct_legs = set(())\n",
    "\n",
    "for person, plan in plans:\n",
    "\n",
    "    # do stuff with this plan, e.g.\n",
    "    legs = filter(\n",
    "        lambda e: e.tag == 'leg', plan)\n",
    "\n",
    "    distinct_legs_individual = set(map(lambda a: a.get('mode'), legs))\n",
    "    #print(person.attrib['id'], distinct_legs_individual)\n",
    "    distinct_legs = distinct_legs.union(distinct_legs_individual)\n",
    "print(distinct_legs)"
   ]
  },
  {
   "cell_type": "markdown",
   "id": "b2e2df7e",
   "metadata": {},
   "source": [
    "## Obtain list of persons with home locations"
   ]
  },
  {
   "cell_type": "code",
   "execution_count": 3,
   "id": "9b372c82",
   "metadata": {},
   "outputs": [
    {
     "name": "stdout",
     "output_type": "stream",
     "text": [
      "[{'person_id': '10000_1', 'home_x': 686346.1102999998, 'home_y': 4824405.8913, 'home_geom': <shapely.geometry.point.Point object at 0x000002665A339640>}, {'person_id': '10001_1', 'home_x': 686463.2969000004, 'home_y': 4824239.2903, 'home_geom': <shapely.geometry.point.Point object at 0x000002665A339040>}, {'person_id': '10002_1', 'home_x': 686346.1102999998, 'home_y': 4824405.8913, 'home_geom': <shapely.geometry.point.Point object at 0x000002665A310970>}, {'person_id': '10003_1', 'home_x': 686457.5027000001, 'home_y': 4824397.363, 'home_geom': <shapely.geometry.point.Point object at 0x000002665A310A00>}, {'person_id': '10004_1', 'home_x': 686664.9104000004, 'home_y': 4824589.509299999, 'home_geom': <shapely.geometry.point.Point object at 0x000002665A3104C0>}, {'person_id': '10005_1', 'home_x': 686738.5410000002, 'home_y': 4824574.2083, 'home_geom': <shapely.geometry.point.Point object at 0x000002665A310BB0>}, {'person_id': '10006_1', 'home_x': 686457.5027000001, 'home_y': 4824397.363, 'home_geom': <shapely.geometry.point.Point object at 0x000002665A310FD0>}, {'person_id': '10007_1', 'home_x': 686457.5027000001, 'home_y': 4824397.363, 'home_geom': <shapely.geometry.point.Point object at 0x000002665A310F70>}, {'person_id': '10007_2', 'home_x': 686457.5027000001, 'home_y': 4824397.363, 'home_geom': <shapely.geometry.point.Point object at 0x000002665A310E80>}, {'person_id': '10008_1', 'home_x': 686457.5027000001, 'home_y': 4824397.363, 'home_geom': <shapely.geometry.point.Point object at 0x000002665A310E20>}, {'person_id': '10008_2', 'home_x': 686457.5027000001, 'home_y': 4824397.363, 'home_geom': <shapely.geometry.point.Point object at 0x000002665A310DC0>}, {'person_id': '10008_3', 'home_x': 686457.5027000001, 'home_y': 4824397.363, 'home_geom': <shapely.geometry.point.Point object at 0x000002665A310D60>}, {'person_id': '10009_1', 'home_x': 686395.3629999999, 'home_y': 4824429.8456, 'home_geom': <shapely.geometry.point.Point object at 0x000002665A310AF0>}, {'person_id': '1000_1', 'home_x': 686225.8847000003, 'home_y': 4823563.306600001, 'home_geom': <shapely.geometry.point.Point object at 0x000002665A310AC0>}, {'person_id': '1000_2', 'home_x': 686225.8847000003, 'home_y': 4823563.306600001, 'home_geom': <shapely.geometry.point.Point object at 0x000002665A310430>}, {'person_id': '10010_1', 'home_x': 686738.5410000002, 'home_y': 4824574.2083, 'home_geom': <shapely.geometry.point.Point object at 0x000002665A310310>}, {'person_id': '10010_2', 'home_x': 686738.5410000002, 'home_y': 4824574.2083, 'home_geom': <shapely.geometry.point.Point object at 0x000002665A3106D0>}, {'person_id': '10011_1', 'home_x': 686738.5410000002, 'home_y': 4824574.2083, 'home_geom': <shapely.geometry.point.Point object at 0x000002665A310B20>}, {'person_id': '10012_1', 'home_x': 686463.2969000004, 'home_y': 4824239.2903, 'home_geom': <shapely.geometry.point.Point object at 0x000002665A310C70>}, {'person_id': '10012_2', 'home_x': 686463.2969000004, 'home_y': 4824239.2903, 'home_geom': <shapely.geometry.point.Point object at 0x000002665A310CD0>}, {'person_id': '10013_1', 'home_x': 686398.1366999997, 'home_y': 4824351.6734, 'home_geom': <shapely.geometry.point.Point object at 0x000002665A310EB0>}, {'person_id': '10013_2', 'home_x': 686398.1366999997, 'home_y': 4824351.6734, 'home_geom': <shapely.geometry.point.Point object at 0x000002665A310F10>}, {'person_id': '10014_1', 'home_x': 686463.2969000004, 'home_y': 4824239.2903, 'home_geom': <shapely.geometry.point.Point object at 0x000002665A310B80>}, {'person_id': '10015_1', 'home_x': 686457.5027000001, 'home_y': 4824397.363, 'home_geom': <shapely.geometry.point.Point object at 0x00000266596274F0>}, {'person_id': '10015_2', 'home_x': 686457.5027000001, 'home_y': 4824397.363, 'home_geom': <shapely.geometry.point.Point object at 0x0000026646C47FA0>}, {'person_id': '10015_3', 'home_x': 686457.5027000001, 'home_y': 4824397.363, 'home_geom': <shapely.geometry.point.Point object at 0x0000026646C47F70>}, {'person_id': '10015_4', 'home_x': 686457.5027000001, 'home_y': 4824397.363, 'home_geom': <shapely.geometry.point.Point object at 0x0000026646C47A60>}, {'person_id': '10016_1', 'home_x': 686398.1366999997, 'home_y': 4824351.6734, 'home_geom': <shapely.geometry.point.Point object at 0x0000026646C47EE0>}, {'person_id': '10016_2', 'home_x': 686398.1366999997, 'home_y': 4824351.6734, 'home_geom': <shapely.geometry.point.Point object at 0x0000026646C47400>}, {'person_id': '10016_3', 'home_x': 686398.1366999997, 'home_y': 4824351.6734, 'home_geom': <shapely.geometry.point.Point object at 0x0000026646C47AF0>}, {'person_id': '10017_1', 'home_x': 686664.9104000004, 'home_y': 4824589.509299999, 'home_geom': <shapely.geometry.point.Point object at 0x0000026646C47250>}, {'person_id': '10018_1', 'home_x': 686398.1366999997, 'home_y': 4824351.6734, 'home_geom': <shapely.geometry.point.Point object at 0x0000026646C47190>}, {'person_id': '10018_2', 'home_x': 686398.1366999997, 'home_y': 4824351.6734, 'home_geom': <shapely.geometry.point.Point object at 0x0000026646C475B0>}, {'person_id': '10018_3', 'home_x': 686398.1366999997, 'home_y': 4824351.6734, 'home_geom': <shapely.geometry.point.Point object at 0x0000026646C47550>}, {'person_id': '10019_1', 'home_x': 686353.9192000004, 'home_y': 4824457.9299, 'home_geom': <shapely.geometry.point.Point object at 0x0000026646C47F40>}, {'person_id': '10019_2', 'home_x': 686353.9192000004, 'home_y': 4824457.9299, 'home_geom': <shapely.geometry.point.Point object at 0x0000026646C44970>}, {'person_id': '1001_1', 'home_x': 686160.9104000004, 'home_y': 4825565.1395, 'home_geom': <shapely.geometry.point.Point object at 0x0000026646C44700>}, {'person_id': '1001_2', 'home_x': 686160.9104000004, 'home_y': 4825565.1395, 'home_geom': <shapely.geometry.point.Point object at 0x0000026646C44790>}, {'person_id': '1001_3', 'home_x': 686160.9104000004, 'home_y': 4825565.1395, 'home_geom': <shapely.geometry.point.Point object at 0x0000026658B91FD0>}, {'person_id': '1001_9', 'home_x': 686160.9104000004, 'home_y': 4825565.1395, 'home_geom': <shapely.geometry.point.Point object at 0x0000026646C075B0>}, {'person_id': '10020_1', 'home_x': 686463.2969000004, 'home_y': 4824239.2903, 'home_geom': <shapely.geometry.point.Point object at 0x0000026646B6FF70>}, {'person_id': '10021_1', 'home_x': 686395.3629999999, 'home_y': 4824429.8456, 'home_geom': <shapely.geometry.point.Point object at 0x0000026646B6F700>}, {'person_id': '10021_2', 'home_x': 686395.3629999999, 'home_y': 4824429.8456, 'home_geom': <shapely.geometry.point.Point object at 0x0000026646B6FFA0>}, {'person_id': '10022_1', 'home_x': 686463.2969000004, 'home_y': 4824239.2903, 'home_geom': <shapely.geometry.point.Point object at 0x000002665A36D070>}, {'person_id': '10023_1', 'home_x': 686443.1161000002, 'home_y': 4824283.8796, 'home_geom': <shapely.geometry.point.Point object at 0x000002665A36D0D0>}, {'person_id': '10023_3', 'home_x': 686443.1161000002, 'home_y': 4824283.8796, 'home_geom': <shapely.geometry.point.Point object at 0x000002665A36D130>}, {'person_id': '10023_4', 'home_x': 686443.1161000002, 'home_y': 4824283.8796, 'home_geom': <shapely.geometry.point.Point object at 0x000002665A36D190>}, {'person_id': '10023_5', 'home_x': 686443.1161000002, 'home_y': 4824283.8796, 'home_geom': <shapely.geometry.point.Point object at 0x000002665A36D1F0>}, {'person_id': '10023_6', 'home_x': 686443.1161000002, 'home_y': 4824283.8796, 'home_geom': <shapely.geometry.point.Point object at 0x000002665A36D250>}, {'person_id': '10023_7', 'home_x': 686443.1161000002, 'home_y': 4824283.8796, 'home_geom': <shapely.geometry.point.Point object at 0x000002665A36D2B0>}, {'person_id': '10024_1', 'home_x': 686347.8384999996, 'home_y': 4824348.8387, 'home_geom': <shapely.geometry.point.Point object at 0x000002665A36D310>}, {'person_id': '10025_1', 'home_x': 686443.1161000002, 'home_y': 4824283.8796, 'home_geom': <shapely.geometry.point.Point object at 0x000002665A36D370>}, {'person_id': '10026_1', 'home_x': 686398.1366999997, 'home_y': 4824351.6734, 'home_geom': <shapely.geometry.point.Point object at 0x000002665A36D3D0>}, {'person_id': '10026_2', 'home_x': 686398.1366999997, 'home_y': 4824351.6734, 'home_geom': <shapely.geometry.point.Point object at 0x000002665A36D430>}, {'person_id': '10026_3', 'home_x': 686398.1366999997, 'home_y': 4824351.6734, 'home_geom': <shapely.geometry.point.Point object at 0x000002665A36D490>}, {'person_id': '10026_4', 'home_x': 686398.1366999997, 'home_y': 4824351.6734, 'home_geom': <shapely.geometry.point.Point object at 0x000002665A36D4F0>}, {'person_id': '10026_5', 'home_x': 686398.1366999997, 'home_y': 4824351.6734, 'home_geom': <shapely.geometry.point.Point object at 0x000002665A36D550>}, {'person_id': '10027_1', 'home_x': 686738.5410000002, 'home_y': 4824574.2083, 'home_geom': <shapely.geometry.point.Point object at 0x000002665A36D5B0>}, {'person_id': '10027_2', 'home_x': 686738.5410000002, 'home_y': 4824574.2083, 'home_geom': <shapely.geometry.point.Point object at 0x000002665A36D610>}, {'person_id': '10028_1', 'home_x': 686457.5027000001, 'home_y': 4824397.363, 'home_geom': <shapely.geometry.point.Point object at 0x000002665A36D670>}, {'person_id': '10028_2', 'home_x': 686457.5027000001, 'home_y': 4824397.363, 'home_geom': <shapely.geometry.point.Point object at 0x000002665A36D6D0>}, {'person_id': '10029_1', 'home_x': 686457.5027000001, 'home_y': 4824397.363, 'home_geom': <shapely.geometry.point.Point object at 0x000002665A36D730>}, {'person_id': '1002_1', 'home_x': 685887.9369999999, 'home_y': 4824376.4384, 'home_geom': <shapely.geometry.point.Point object at 0x000002665A36D790>}, {'person_id': '10030_1', 'home_x': 686395.3629999999, 'home_y': 4824429.8456, 'home_geom': <shapely.geometry.point.Point object at 0x000002665A36D7F0>}, {'person_id': '10031_1', 'home_x': 686443.1161000002, 'home_y': 4824283.8796, 'home_geom': <shapely.geometry.point.Point object at 0x000002665A36D850>}, {'person_id': '10032_1', 'home_x': 686738.5410000002, 'home_y': 4824574.2083, 'home_geom': <shapely.geometry.point.Point object at 0x000002665A36D8B0>}, {'person_id': '10032_2', 'home_x': 686738.5410000002, 'home_y': 4824574.2083, 'home_geom': <shapely.geometry.point.Point object at 0x000002665A36D910>}, {'person_id': '10033_1', 'home_x': 686463.2969000004, 'home_y': 4824239.2903, 'home_geom': <shapely.geometry.point.Point object at 0x000002665A36D970>}, {'person_id': '10033_2', 'home_x': 686463.2969000004, 'home_y': 4824239.2903, 'home_geom': <shapely.geometry.point.Point object at 0x000002665A36D9D0>}, {'person_id': '10033_3', 'home_x': 686463.2969000004, 'home_y': 4824239.2903, 'home_geom': <shapely.geometry.point.Point object at 0x000002665A36DA30>}, {'person_id': '10033_4', 'home_x': 686463.2969000004, 'home_y': 4824239.2903, 'home_geom': <shapely.geometry.point.Point object at 0x000002665A36DA90>}, {'person_id': '10034_1', 'home_x': 686738.5410000002, 'home_y': 4824574.2083, 'home_geom': <shapely.geometry.point.Point object at 0x000002665A36DAF0>}, {'person_id': '10035_1', 'home_x': 686395.3629999999, 'home_y': 4824429.8456, 'home_geom': <shapely.geometry.point.Point object at 0x000002665A36DB50>}, {'person_id': '10036_1', 'home_x': 686395.3629999999, 'home_y': 4824429.8456, 'home_geom': <shapely.geometry.point.Point object at 0x000002665A36DBB0>}, {'person_id': '10037_1', 'home_x': 686463.2969000004, 'home_y': 4824239.2903, 'home_geom': <shapely.geometry.point.Point object at 0x000002665A36DC10>}, {'person_id': '10038_1', 'home_x': 686353.9192000004, 'home_y': 4824457.9299, 'home_geom': <shapely.geometry.point.Point object at 0x000002665A36DC70>}, {'person_id': '10038_2', 'home_x': 686353.9192000004, 'home_y': 4824457.9299, 'home_geom': <shapely.geometry.point.Point object at 0x000002665A36DCD0>}, {'person_id': '10039_1', 'home_x': 686738.5410000002, 'home_y': 4824574.2083, 'home_geom': <shapely.geometry.point.Point object at 0x000002665A36DD30>}, {'person_id': '10039_3', 'home_x': 686738.5410000002, 'home_y': 4824574.2083, 'home_geom': <shapely.geometry.point.Point object at 0x000002665A36DD90>}, {'person_id': '1003_1', 'home_x': 686154.7960999999, 'home_y': 4824428.611099999, 'home_geom': <shapely.geometry.point.Point object at 0x000002665A36DDF0>}, {'person_id': '1003_2', 'home_x': 686154.7960999999, 'home_y': 4824428.611099999, 'home_geom': <shapely.geometry.point.Point object at 0x000002665A36DE50>}, {'person_id': '10040_1', 'home_x': 686353.9192000004, 'home_y': 4824457.9299, 'home_geom': <shapely.geometry.point.Point object at 0x000002665A36DEB0>}, {'person_id': '10041_1', 'home_x': 686443.1161000002, 'home_y': 4824283.8796, 'home_geom': <shapely.geometry.point.Point object at 0x000002665A36DF10>}, {'person_id': '10042_1', 'home_x': 686346.1102999998, 'home_y': 4824405.8913, 'home_geom': <shapely.geometry.point.Point object at 0x000002665A36DF70>}, {'person_id': '10042_2', 'home_x': 686346.1102999998, 'home_y': 4824405.8913, 'home_geom': <shapely.geometry.point.Point object at 0x000002665A36DFD0>}, {'person_id': '10043_1', 'home_x': 686664.9104000004, 'home_y': 4824589.509299999, 'home_geom': <shapely.geometry.point.Point object at 0x000002665A34B070>}, {'person_id': '10044_1', 'home_x': 686664.9104000004, 'home_y': 4824589.509299999, 'home_geom': <shapely.geometry.point.Point object at 0x000002665A34B0D0>}, {'person_id': '10045_1', 'home_x': 686395.3629999999, 'home_y': 4824429.8456, 'home_geom': <shapely.geometry.point.Point object at 0x000002665A34B130>}, {'person_id': '10045_2', 'home_x': 686395.3629999999, 'home_y': 4824429.8456, 'home_geom': <shapely.geometry.point.Point object at 0x000002665A34B190>}, {'person_id': '10045_3', 'home_x': 686395.3629999999, 'home_y': 4824429.8456, 'home_geom': <shapely.geometry.point.Point object at 0x000002665A34B1F0>}, {'person_id': '10046_1', 'home_x': 686443.1161000002, 'home_y': 4824283.8796, 'home_geom': <shapely.geometry.point.Point object at 0x000002665A34B250>}, {'person_id': '10046_2', 'home_x': 686443.1161000002, 'home_y': 4824283.8796, 'home_geom': <shapely.geometry.point.Point object at 0x000002665A34B2B0>}, {'person_id': '10047_1', 'home_x': 686353.9192000004, 'home_y': 4824457.9299, 'home_geom': <shapely.geometry.point.Point object at 0x000002665A34B310>}, {'person_id': '10047_2', 'home_x': 686353.9192000004, 'home_y': 4824457.9299, 'home_geom': <shapely.geometry.point.Point object at 0x000002665A34B370>}, {'person_id': '10047_3', 'home_x': 686353.9192000004, 'home_y': 4824457.9299, 'home_geom': <shapely.geometry.point.Point object at 0x000002665A34B3D0>}, {'person_id': '10048_1', 'home_x': 686395.3629999999, 'home_y': 4824429.8456, 'home_geom': <shapely.geometry.point.Point object at 0x000002665A34B430>}, {'person_id': '10048_2', 'home_x': 686395.3629999999, 'home_y': 4824429.8456, 'home_geom': <shapely.geometry.point.Point object at 0x000002665A34B490>}, {'person_id': '10048_4', 'home_x': 686395.3629999999, 'home_y': 4824429.8456, 'home_geom': <shapely.geometry.point.Point object at 0x000002665A34B4F0>}, {'person_id': '10049_1', 'home_x': 686398.1366999997, 'home_y': 4824351.6734, 'home_geom': <shapely.geometry.point.Point object at 0x000002665A34B550>}, {'person_id': '1004_1', 'home_x': 685912.6960000005, 'home_y': 4824425.9472, 'home_geom': <shapely.geometry.point.Point object at 0x000002665A34B5B0>}]\n"
     ]
    }
   ],
   "source": [
    "import geoalchemy2\n",
    "import geopandas as gpd\n",
    "import shapely.geometry as shp\n",
    "\n",
    "crs = {'init': \"EPSG:26914\"}\n",
    "\n",
    "plans = matsim.plan_reader('scenarios/sioux_falls_uam/output/output_plans.xml.gz', selectedPlansOnly = True)\n",
    "\n",
    "persons_list = []\n",
    "\n",
    "for person, plan in plans:\n",
    "    person_id = person.attrib['id']\n",
    "    person_dict = {'person_id': person_id}\n",
    "    \n",
    "    \n",
    "    # get x and y coordinates from first home activity\n",
    "    for event in plan:\n",
    "        if event.tag == 'activity' and event.attrib['type'] == 'home':\n",
    "            home_x = float(event.attrib['x'])\n",
    "            home_y = float(event.attrib['y'])\n",
    "            break\n",
    "    \n",
    "    home_geom = shp.Point(home_x, home_y)\n",
    "    \n",
    "    \n",
    "    person_dict.update({'home_x': home_x, 'home_y': home_y, 'home_geom': home_geom})\n",
    "    \n",
    "    \n",
    "    persons_list.append(person_dict)\n",
    "    \n",
    "print(persons_list[0:100])    "
   ]
  },
  {
   "cell_type": "markdown",
   "id": "08ce64e4",
   "metadata": {},
   "source": [
    "## List of unique daily activity chains"
   ]
  },
  {
   "cell_type": "code",
   "execution_count": 13,
   "id": "274452a2",
   "metadata": {},
   "outputs": [
    {
     "name": "stdout",
     "output_type": "stream",
     "text": [
      "{('home', 'secondary', 'home'), ('home', 'uam_interaction', 'uam_interaction', 'work', 'uam_interaction', 'uam_interaction', 'home'), ('home', 'uam_interaction', 'uam_interaction', 'secondary', 'uam_interaction', 'uam_interaction', 'home'), ('home', 'work', 'home')}\n"
     ]
    }
   ],
   "source": [
    "plans = matsim.plan_reader('Outputs/output_20220510/ITERS/it.30/30.plans.xml.gz', selectedPlansOnly = False)\n",
    "\n",
    "distinct_activity_lists = set(())\n",
    "\n",
    "for person, plan in plans:\n",
    "    \n",
    "    \n",
    "    # do stuff with this plan, e.g.\n",
    "    activities = filter(\n",
    "        lambda e: e.tag == 'activity', plan)\n",
    "    \n",
    "    \n",
    "    activity_types = tuple(map(lambda a: a.get('type'), activities))\n",
    "    activity_types_filtered = filter(lambda t: t != 'pt interaction', activity_types)\n",
    "    activities_tuple = tuple(activity_types_filtered)\n",
    "    if activities_tuple not in distinct_activity_lists:\n",
    "        distinct_activity_lists.add(activities_tuple)\n",
    "print(distinct_activity_lists)"
   ]
  },
  {
   "cell_type": "code",
   "execution_count": null,
   "id": "9e2f0ea4",
   "metadata": {},
   "outputs": [],
   "source": []
  }
 ],
 "metadata": {
  "kernelspec": {
   "display_name": "Python 3 (ipykernel)",
   "language": "python",
   "name": "python3"
  },
  "language_info": {
   "codemirror_mode": {
    "name": "ipython",
    "version": 3
   },
   "file_extension": ".py",
   "mimetype": "text/x-python",
   "name": "python",
   "nbconvert_exporter": "python",
   "pygments_lexer": "ipython3",
   "version": "3.9.6"
  }
 },
 "nbformat": 4,
 "nbformat_minor": 5
}
